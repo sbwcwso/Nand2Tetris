{
 "cells": [
  {
   "cell_type": "code",
   "execution_count": 1,
   "metadata": {},
   "outputs": [
    {
     "name": "stdout",
     "output_type": "stream",
     "text": [
      "string1\n"
     ]
    }
   ],
   "source": [
    "from enum import Enum\n",
    "\n",
    "class MyEnum(Enum):\n",
    "    VALUE1 = \"String1\"\n",
    "    VALUE2 = \"String2\"\n",
    "    VALUE3 = \"String3\"\n",
    "\n",
    "    def __str__(self):\n",
    "        return self.value\n",
    "\n",
    "# 将枚举成员转换为小写字符串\n",
    "enum_member = MyEnum.VALUE1\n",
    "enum_str = str(enum_member).lower()\n",
    "print(enum_str)  # 输出: value1"
   ]
  },
  {
   "cell_type": "code",
   "execution_count": 5,
   "metadata": {},
   "outputs": [],
   "source": [
    "class VarType(Enum):\n",
    "    \"\"\"The variable type.\"\"\"\n",
    "    STATIC = \"static\"\n",
    "    FIELD = \"field\"\n",
    "    ARGUMENT = \"argument\"\n",
    "    LOCAL = \"local\"\n",
    "\n",
    "    def __str__(self):\n",
    "        return self.value"
   ]
  },
  {
   "cell_type": "code",
   "execution_count": 7,
   "metadata": {},
   "outputs": [
    {
     "name": "stdout",
     "output_type": "stream",
     "text": [
      "local\n"
     ]
    }
   ],
   "source": [
    "print(\"{}\".format(VarType.LOCAL))"
   ]
  },
  {
   "cell_type": "code",
   "execution_count": null,
   "metadata": {},
   "outputs": [],
   "source": []
  }
 ],
 "metadata": {
  "kernelspec": {
   "display_name": "Python 3",
   "language": "python",
   "name": "python3"
  },
  "language_info": {
   "codemirror_mode": {
    "name": "ipython",
    "version": 3
   },
   "file_extension": ".py",
   "mimetype": "text/x-python",
   "name": "python",
   "nbconvert_exporter": "python",
   "pygments_lexer": "ipython3",
   "version": "3.11.3"
  },
  "orig_nbformat": 4
 },
 "nbformat": 4,
 "nbformat_minor": 2
}
